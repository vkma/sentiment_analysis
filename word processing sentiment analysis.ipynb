{
 "cells": [
  {
   "cell_type": "code",
   "execution_count": 11,
   "metadata": {},
   "outputs": [
    {
     "name": "stdout",
     "output_type": "stream",
     "text": [
      "['Statistics skills, and programming skills are equally importantfor analytics.', 'Statistics skills, and domain knowledge are important foranalytics.', 'I like reading books and travelling.']\n"
     ]
    }
   ],
   "source": [
    "import nltk as st\n",
    "#from nltk.tokenize import sent_tokenize\n",
    "text='Statistics skills, and programming skills are equally importantfor analytics. Statistics skills, and domain knowledge are important foranalytics. I like reading books and travelling.'\n",
    "sent_tokenize_list = st.sent_tokenize(text)\n",
    "print(sent_tokenize_list)"
   ]
  },
  {
   "cell_type": "code",
   "execution_count": 9,
   "metadata": {},
   "outputs": [
    {
     "name": "stdout",
     "output_type": "stream",
     "text": [
      "['static skills, and programming skills are equally important analysis for analytics.']\n"
     ]
    }
   ],
   "source": [
    "import nltk\n",
    "from nltk.tokenize import sent_tokenize\n",
    "text = 'static skills, and programming skills are equally important analysis for analytics.'\n",
    "sent_tokenize_list=sent_tokenize(text)\n",
    "print(sent_tokenize_list)"
   ]
  },
  {
   "cell_type": "code",
   "execution_count": 12,
   "metadata": {},
   "outputs": [
    {
     "name": "stdout",
     "output_type": "stream",
     "text": [
      "['static', 'skills', ',', 'and', 'programming', 'skills', 'are', 'equally', 'important', 'analysis', 'for', 'analytics', '.']\n"
     ]
    }
   ],
   "source": [
    "import nltk as nt\n",
    "text = 'static skills, and programming skills are equally important analysis for analytics.'\n",
    "word_tokenize_list=nt.word_tokenize(text)\n",
    "print(word_tokenize_list)"
   ]
  },
  {
   "cell_type": "code",
   "execution_count": 39,
   "metadata": {},
   "outputs": [
    {
     "name": "stdout",
     "output_type": "stream",
     "text": [
      "['This', 'is', 'a', 'sample', 'English', 'sentence', 'with', 'whitespace', 'and', 'numbers']\n"
     ]
    }
   ],
   "source": [
    "import re   #use for remove number \n",
    "import string #use in punctuation\n",
    "import nltk\n",
    "#def remove_numbers(text):\n",
    " #   return re.sub(r'\\d+', '', text)\n",
    "text = 'This is a sample English sentence, ? \\n with whitespace and numbers 1234!'\n",
    "text= re.sub('\\d+','',text)\n",
    "tokenize= nt.RegexpTokenizer(r'\\w+',text)\n",
    "text=tokenizer.tokenize(text)\n",
    "print(text)"
   ]
  },
  {
   "cell_type": "code",
   "execution_count": 7,
   "metadata": {},
   "outputs": [
    {
     "name": "stdout",
     "output_type": "stream",
     "text": [
      "['This', 'is', 'a', 'sample', 'nothing', 'English', 'not', 'sentence', 'with', 'never', 'whitespace', 'and', 'numbers', '1234']\n"
     ]
    }
   ],
   "source": [
    "import nltk as nt\n",
    "text = 'This is a sample nothing English not sentence, ? \\n with never whitespace and numbers 1234!'\n",
    "tokenizer = nt.RegexpTokenizer(r'\\w+')\n",
    "tokenized_words=tokenizer.tokenize(text)\n",
    "print(tokenized_words)"
   ]
  },
  {
   "cell_type": "code",
   "execution_count": 14,
   "metadata": {},
   "outputs": [
    {
     "name": "stdout",
     "output_type": "stream",
     "text": [
      "['This', 'sample', 'nothing', 'English', 'sentence', 'never', 'whitespace', 'numbers', '1234']\n"
     ]
    }
   ],
   "source": [
    "import nltk as stopwords\n",
    "from nltk.corpus import stopwords\n",
    "#text1='this is my laptop and i am owner of this laptop'\n",
    "stop_words = stopwords.words('english')\n",
    "x=[word for word in tokenized_words if word not in stop_words]\n",
    "\n",
    "print(x)\n"
   ]
  },
  {
   "cell_type": "code",
   "execution_count": null,
   "metadata": {},
   "outputs": [],
   "source": []
  },
  {
   "cell_type": "code",
   "execution_count": 15,
   "metadata": {},
   "outputs": [
    {
     "data": {
      "image/png": "[encoded data removed]",
      "text/plain": [
       "<Figure size 432x288 with 1 Axes>"
      ]
     },
     "metadata": {},
     "output_type": "display_data"
    }
   ],
   "source": [
    "from nltk.sentiment.vader import SentimentIntensityAnalyzer\n",
    "from nltk.sentiment.util import *\n",
    "import matplotlib.pyplot as plt\n",
    "import pandas as pd\n",
    "data = pd.read_csv('Data/customer_review.csv')\n",
    "SIA = SentimentIntensityAnalyzer()\n",
    "data['polarity_score']=data.Review.apply(lambda x:SIA.polarity_scores(x)\n",
    "['compound'])\n",
    "data['neutral_score']=data.Review.apply(lambda x:SIA.polarity_scores(x)['neu'])\n",
    "data['negative_score']=data.Review.apply(lambda x:SIA.polarity_scores(x)['neg'])\n",
    "data['positive_score']=data.Review.apply(lambda x:SIA.polarity_scores(x)['pos'])\n",
    "data['sentiment']=''\n",
    "data.loc[data.polarity_score>0,'sentiment']='POSITIVE'\n",
    "data.loc[data.polarity_score==0,'sentiment']='NEUTRAL'\n",
    "data.loc[data.polarity_score<0,'sentiment']='NEGATIVE'\n",
    "data.head()\n",
    "\n",
    "data.sentiment.value_counts().plot(kind='bar',title=\"sentiment analysis\")\n",
    "plt.show()"
   ]
  },
  {
   "cell_type": "code",
   "execution_count": null,
   "metadata": {},
   "outputs": [],
   "source": []
  }
 ],
 "metadata": {
  "kernelspec": {
   "display_name": "Python 3",
   "language": "python",
   "name": "python3"
  },
  "language_info": {
   "codemirror_mode": {
    "name": "ipython",
    "version": 3
   },
   "file_extension": ".py",
   "mimetype": "text/x-python",
   "name": "python",
   "nbconvert_exporter": "python",
   "pygments_lexer": "ipython3",
   "version": "3.6.5"
  }
 },
 "nbformat": 4,
 "nbformat_minor": 2
}
